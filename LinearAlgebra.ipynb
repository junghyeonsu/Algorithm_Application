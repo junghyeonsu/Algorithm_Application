{
  "nbformat": 4,
  "nbformat_minor": 0,
  "metadata": {
    "colab": {
      "name": "LinearAlgebra.ipynb",
      "provenance": [],
      "collapsed_sections": [],
      "authorship_tag": "ABX9TyNFEvleagSeCcHsHZnOB+yx",
      "include_colab_link": true
    },
    "kernelspec": {
      "name": "python3",
      "display_name": "Python 3"
    }
  },
  "cells": [
    {
      "cell_type": "markdown",
      "metadata": {
        "id": "view-in-github",
        "colab_type": "text"
      },
      "source": [
        "<a href=\"https://colab.research.google.com/github/junghyeonsu/Algorithm_Application/blob/master/LinearAlgebra.ipynb\" target=\"_parent\"><img src=\"https://colab.research.google.com/assets/colab-badge.svg\" alt=\"Open In Colab\"/></a>"
      ]
    },
    {
      "cell_type": "markdown",
      "metadata": {
        "id": "Uk3mJ7zDksNT",
        "colab_type": "text"
      },
      "source": [
        "# Linear Algebra가 중요한 이유\n",
        "\n",
        " 영상처리 및 행렬 응용 분야의 꽃인 컴퓨터 그래픽스에서는 반드시 필요하다. 절대 다수가 3D CG로 만들어지는 오늘날의 게임과 애니메이션에서는 필수 지식이라고 할 수 있다.\n",
        "\n",
        "우리 일상에서 영상으로 보여지는것들은 이 분야가 거의 쓰인다고 할 수 있다.\n"
      ]
    },
    {
      "cell_type": "markdown",
      "metadata": {
        "id": "YiMywBQeYP7l",
        "colab_type": "text"
      },
      "source": [
        "# Linear Algebra\n",
        "\n",
        "### **우리가 생각하는 벡터는?**\n",
        "\n",
        "![image](https://user-images.githubusercontent.com/54893898/83617351-e6f14a00-a5c3-11ea-85d8-afe7522c754d.png)\n",
        "\n",
        "우리가 흔히 생각하는 벡터는 크기와 방향으로 정의되는 그런 방향성이 있는 화살표를 많이 생각한다.\n",
        "\n",
        "### **데이터 관점에서의 벡터?**\n",
        "\n",
        "데이터를 표현할 때 벡터로 표현한다면 어떤식으로 표현이 가능할까?\n",
        "\n",
        "\n",
        "![image](https://user-images.githubusercontent.com/54893898/83617595-46e7f080-a5c4-11ea-969a-8e1da05fe45c.png)\n",
        "\n",
        "위의 그림처럼 색의 RGB를 각각 X, Y, Z좌표로 표현함으로써 벡터로 표현할 수 있다!"
      ]
    },
    {
      "cell_type": "markdown",
      "metadata": {
        "id": "7izzDLWsauJH",
        "colab_type": "text"
      },
      "source": [
        "# Information, 정보\n",
        "\n",
        "![image](https://user-images.githubusercontent.com/54893898/83617843-a219e300-a5c4-11ea-9993-fc4400b6f195.png)\n",
        "\n",
        "조선시대때 통신네트워크로 봉수를 예로 들어보자.\n",
        "\n",
        "옛날에는 통신 전자 기기가 따로 없었으므로 적이 나타났을 때 재빠르게 **정보를 전달**할 수 있는 수단이 없었다.\n",
        "\n",
        "그렇지만 지금은 컴퓨터가 존재하기 때문에 모든 것을 데이터화 할 수 있다. 만약 저 봉수의 신호체계를 데이터로 바꾼다면?\n",
        "\n",
        "![image](https://user-images.githubusercontent.com/54893898/83618113-f624c780-a5c4-11ea-9713-cb9820d3925a.png)\n",
        "\n",
        "이런식으로 바꿀 수 있을 것이다."
      ]
    },
    {
      "cell_type": "markdown",
      "metadata": {
        "id": "2IHGARzcb-NH",
        "colab_type": "text"
      },
      "source": [
        "# **데이터를 벡터로**\n",
        "\n",
        "![image](https://user-images.githubusercontent.com/54893898/83618361-53207d80-a5c5-11ea-9581-99e82cd507be.png)\n",
        "\n",
        "우리가 말한것을 토대로 벡터들을 해석하면,\n",
        "\n",
        "어떤 한 벡터가 가르키는 한 좌표는 어떤 정보에 해당하는 것이다.\n",
        "\n",
        "이렇게 벡터화 시킨 데이터를 컴포넌트로 볼 수 있다. \n"
      ]
    },
    {
      "cell_type": "markdown",
      "metadata": {
        "id": "fWNbsMAlczMy",
        "colab_type": "text"
      },
      "source": [
        "#**벡터 연산**\n",
        "\n",
        "이제 데이터를 벡터로 표시를 했으니, 벡터들의 연산 방법만 알면 데이터들의 합 혹은 다른 연산들을 벡터 연산으로 해결해버리면 되는 것이다. \n",
        "\n",
        "\n",
        "## 벡터 합\n",
        "\n",
        "![image](https://user-images.githubusercontent.com/54893898/83618896-14d78e00-a5c6-11ea-9b1e-dc2709ae1806.png)\n",
        "\n",
        "### v벡터와 w벡터를 더하고싶다면\n",
        "v, w벡터에 존재하는 컴포넌트들을 같은 위치에 존재하는 컴포넌트를 각각 더해주면 된다. \n",
        "\n",
        "## 벡터 합 Head to Tail rule\n",
        "\n",
        "![image](https://user-images.githubusercontent.com/54893898/83619072-4f412b00-a5c6-11ea-9831-f00306c75bb2.png)\n",
        "\n",
        " Head to Tail 규칙은 벡터 합을 할 때\n",
        " 두 벡터를 좌표상에 그려놓고, 하나의 벡터를 그은다음 둘다 시작 지점을 (0,0)으로 시작 한다는 가정하에\n",
        "\n",
        "하나의 벡터를 또 다른 벡터의 끝지점부터 시작지점이 되도록 옮겨주면, 두 개를 합한 벡터를 직관적을 볼 수 있다.\n",
        "\n",
        "\n",
        "## 스칼라 벡터 곱\n",
        "\n",
        "![image](https://user-images.githubusercontent.com/54893898/83619334-af37d180-a5c6-11ea-8d53-13b78d90de03.png)\n",
        "\n",
        "###v 라는 벡터에 스칼라 곱을 하고 싶으면\n",
        "바로 스칼라를 각각의 컴포넌트에 곱해주면 끝이다.\n",
        "\n",
        "\n",
        "\n",
        "## 그렇게 더해진 벡터, 곱해진 벡터 등등이 모여서 matrix가 됐다. 그럼 그 matrix의 곱은 어떻게 할까?\n",
        "\n",
        "![image](https://user-images.githubusercontent.com/54893898/83619521-f1f9a980-a5c6-11ea-853b-0fe26091fecc.png)\n",
        "\n",
        "\n",
        "**A 매트릭스 x B 매트릭스 = M 매트릭스**\n",
        "\n",
        "가 나오기 위해서는 갖추어야 하는 필수사항이 있다. 그림에서 보다시피 안쪽의 차수는 같아야한다. 그럼 바깥의 차수가 나오는 식이다."
      ]
    }
  ]
}