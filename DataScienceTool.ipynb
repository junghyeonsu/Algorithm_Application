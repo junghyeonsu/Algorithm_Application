{
  "nbformat": 4,
  "nbformat_minor": 0,
  "metadata": {
    "colab": {
      "name": "DataScienceTool.ipynb",
      "provenance": [],
      "collapsed_sections": [],
      "authorship_tag": "ABX9TyM6zfk5L+PDQdOYCkHAOJwq",
      "include_colab_link": true
    },
    "kernelspec": {
      "name": "python3",
      "display_name": "Python 3"
    }
  },
  "cells": [
    {
      "cell_type": "markdown",
      "metadata": {
        "id": "view-in-github",
        "colab_type": "text"
      },
      "source": [
        "<a href=\"https://colab.research.google.com/github/junghyeonsu/Algorithm_Application/blob/master/DataScienceTool.ipynb\" target=\"_parent\"><img src=\"https://colab.research.google.com/assets/colab-badge.svg\" alt=\"Open In Colab\"/></a>"
      ]
    },
    {
      "cell_type": "markdown",
      "metadata": {
        "id": "xsBIH2Qtl8vP",
        "colab_type": "text"
      },
      "source": [
        "# Data Understanding\n",
        "\n",
        "**Data Understanding의 목표?**\n",
        "\n",
        "초기 데이터를 수집, 이해하고 데이터의 품질을 정의하고 <BR>\n",
        "몇가지 가설을 구성하기 위한 데이터셋을 설정"
      ]
    },
    {
      "cell_type": "markdown",
      "metadata": {
        "id": "Odlon1RepJq5",
        "colab_type": "text"
      },
      "source": [
        "**농구선수들의 점수 획득을 보고 어떤선수가 <BR>**\n",
        "**가장 좋은 선수인지 어떻게 알수있을까?**\n",
        "\n",
        "---\n",
        "\n",
        "각 선수들의 10경기 득점 점수\n",
        "\n",
        "선수1 = [15, 15, 17, 20, 21, 15, 12, 15, 18, 19]\n",
        "\n",
        "선수2 = [30, 10, 15, 30, 15, 10, 30, 30, 15, 10]\n",
        "\n",
        "선수3 = [20, 20, 20, 20, 10, 10, 10, 10, 20, 30]"
      ]
    },
    {
      "cell_type": "markdown",
      "metadata": {
        "id": "BHax0pBpqtUL",
        "colab_type": "text"
      },
      "source": [
        "**데이터를 설명할 수 있는 특징점이 필요하다!**\n",
        "<br><br>\n",
        "첫번째 아이디어 Data set의 중심값이 높은 선수\n",
        "\n",
        "<br><br>\n",
        "요기서 중심값은\n",
        "\n",
        "1. 평균\n",
        "  - 모든데이터를 전부 더한 다음 개수로 나눈 값\n",
        "2. 중앙값\n",
        "  - 데이터셋의 중앙에 위치한 값\n",
        "3. 최빈값 \n",
        "  - 제일 빈도수가 높은 값\n",
        "\n",
        "을 의미한다. "
      ]
    },
    {
      "cell_type": "markdown",
      "metadata": {
        "id": "VTTCR33_rhcT",
        "colab_type": "text"
      },
      "source": [
        "---\n",
        "**각 선수별 중심값 구해보기**\n",
        "***\n",
        "선수1 = [15, 15, 17, 20, 21, 15, 12, 15, 18, 19]\n",
        "\n",
        "* 선수1의 평균 \n",
        "<br> 167 / 10 = 16.7 \n",
        "\n",
        "* 선수1의 중앙값 (중앙값이 두개이므로 두개를 더한 다음 나눈다.)\n",
        "<br> 21 + 15 / 2 = 18\n",
        "\n",
        "* 선수1의 최빈값\n",
        "<br> 15가 4번으로 제일 많이 나온다.\n",
        "***\n",
        "선수2 = [30, 10, 15, 30, 15, 10, 30, 30, 15, 10]\n",
        "\n",
        "* 선수2의 평균 \n",
        "<br> 195 / 10 = 19.5 \n",
        "\n",
        "* 선수2의 중앙값 (중앙값이 두개이므로 두개를 더한 다음 나눈다.)\n",
        "<br> 15 + 10 / 2 = 12.5\n",
        "\n",
        "* 선수2의 최빈값\n",
        "<br> 30이 4번으로 제일 많이 나온다.\n",
        "***\n",
        "선수3 = [20, 20, 20, 20, 10, 10, 10, 10, 20, 30]\n",
        "\n",
        "* 선수3의 평균 \n",
        "<br> 170 / 10 = 17.0 \n",
        "\n",
        "* 선수3의 중앙값 (중앙값이 두개이므로 두개를 더한 다음 나눈다.)\n",
        "<br> 10 + 10 / 2 = 10\n",
        "\n",
        "* 선수3의 최빈값\n",
        "<br> 20가 5번으로 제일 많이 나온다."
      ]
    },
    {
      "cell_type": "markdown",
      "metadata": {
        "id": "X2TTJkybtdC6",
        "colab_type": "text"
      },
      "source": [
        "평균으로 봤을 때 : 선수2 > 선수3 > 선수1\n",
        "\n",
        "중앙값으로 봤을 때 : 선수1 > 선수2 > 선수3\n",
        "\n",
        "최빈값으로 봤을 때 : 선수2 > 선수3 > 선수1\n",
        "\n",
        "\n",
        "\n",
        "# 중심값의 문제점은? \n",
        "\n",
        "그 데이터 내의 **중심적 경향**에 대해 설명만 하고있다.<br>\n",
        "데이터 내의 **변화**에 대해서는 설명하지 못함."
      ]
    },
    {
      "cell_type": "code",
      "metadata": {
        "id": "rIDHaZWBufzB",
        "colab_type": "code",
        "colab": {
          "base_uri": "https://localhost:8080/",
          "height": 293
        },
        "outputId": "63e47d34-9e36-4b20-a7a6-48c0604288fe"
      },
      "source": [
        "import matplotlib.pyplot as plt\n",
        "import numpy as np\n",
        "\n",
        "player_one = np.array([15, 15, 17, 20, 21, 15, 12, 15, 18, 19])\n",
        "player_two = np.array( [30, 10, 15, 30, 15, 10, 30, 30, 15, 10])\n",
        "player_three = np.array([20, 20, 20, 20, 10, 10, 10, 10, 20, 30])\n",
        "\n",
        "plt.figure(figsize=(15,4))\n",
        "\n",
        "oneChart = plt.subplot(131) # plot 위치\n",
        "oneChart.set_title('player one', fontsize=10) # title\n",
        "oneChart.boxplot(player_one) # x축, y축\n",
        "oneChart.set_xlabel('Point')\n",
        "oneChart.set_ylabel('Match')\n",
        "\n",
        "twoChart = plt.subplot(132)\n",
        "twoChart.set_title('player two', fontsize=10)\n",
        "twoChart.boxplot(player_two)\n",
        "twoChart.set_xlabel('Point')\n",
        "twoChart.set_ylabel('Match')\n",
        "\n",
        "threeChart = plt.subplot(133)\n",
        "threeChart.set_title('player three', fontsize=10)\n",
        "threeChart.boxplot(player_three)\n",
        "threeChart.set_xlabel('Point')\n",
        "threeChart.set_ylabel('Match')\n",
        "plt.show()"
      ],
      "execution_count": 18,
      "outputs": [
        {
          "output_type": "display_data",
          "data": {
            "image/png": "[encoded data removed]",
            "text/plain": [
              "<Figure size 1080x288 with 3 Axes>"
            ]
          },
          "metadata": {
            "tags": [],
            "needs_background": "light"
          }
        }
      ]
    },
    {
      "cell_type": "markdown",
      "metadata": {
        "id": "2e7T1TiKuXIh",
        "colab_type": "text"
      },
      "source": [
        "---\n",
        "# 그럼 변화를 설명할 수 있는 값은 무엇일까?\n",
        "\n",
        "**변화값**\n",
        "\n",
        "1. 분산\n",
        "2. 표준편차"
      ]
    },
    {
      "cell_type": "code",
      "metadata": {
        "id": "c9ixWPLHwzWx",
        "colab_type": "code",
        "colab": {
          "base_uri": "https://localhost:8080/",
          "height": 124
        },
        "outputId": "d3ab6e14-a19a-468e-9d27-6e587081e552"
      },
      "source": [
        "# player one의 분산\n",
        "print(np.var(player_one))\n",
        "# player two의 분산\n",
        "print(np.var(player_two))\n",
        "# player three의 분산\n",
        "print(np.var(player_three))\n",
        "\n",
        "# player one의 표준편차\n",
        "print(np.std(player_one))\n",
        "# player two의 표준편차\n",
        "print(np.std(player_two))\n",
        "# player three의 표준편차\n",
        "print(np.std(player_three))"
      ],
      "execution_count": 16,
      "outputs": [
        {
          "output_type": "stream",
          "text": [
            "7.01\n",
            "77.25\n",
            "41.0\n",
            "2.6476404589747453\n",
            "8.789197915623474\n",
            "6.4031242374328485\n"
          ],
          "name": "stdout"
        }
      ]
    },
    {
      "cell_type": "markdown",
      "metadata": {
        "id": "VtL77bC3zt-r",
        "colab_type": "text"
      },
      "source": [
        "player two는 감정기복이 엄청 심한 선수 란것을 알 수 있다.<br>\n",
        "player one은 감정기복이 별로 없는 것을 알 수 있다."
      ]
    },
    {
      "cell_type": "markdown",
      "metadata": {
        "id": "2QF_Rl8R0Oc2",
        "colab_type": "text"
      },
      "source": [
        "---\n",
        "# player one의 11번째 경기의 득점은 어떻게 알수있을까? \n",
        "\n",
        "**확률**\n",
        "\n",
        "확률은 과거에 득점한 득점점수 이력을 가지고 다음 경기의 득점을 예측한다! "
      ]
    },
    {
      "cell_type": "markdown",
      "metadata": {
        "id": "nI698Znq0yC_",
        "colab_type": "text"
      },
      "source": [
        "![image.png](data:image/png;base64,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)"
      ]
    },
    {
      "cell_type": "markdown",
      "metadata": {
        "id": "_6baQKrZ01nC",
        "colab_type": "text"
      },
      "source": [
        "**예측할 이벤트가 일어난 수 / 전체 경우의 수 = 확률**\n",
        "\n",
        "어떤 경우에도 P(A)는 0과 1사이를 가진다."
      ]
    },
    {
      "cell_type": "markdown",
      "metadata": {
        "id": "2nTtxMy07jIn",
        "colab_type": "text"
      },
      "source": [
        "---\n",
        "# 확률 분포 구하기\n",
        "\n",
        "**확률 분포란?**\n",
        "\n",
        "각 event에 대해 확률의 분포를 표현한 것!\n",
        "\n",
        "**확률 분포 구하는 방법은?**\n",
        "\n",
        "* 사건에 대해서 기록을 한다.\n",
        "* 전체 Event 대비 일어난 횟수를 구한다.\n",
        "* 각 Event당 확률을 구한다.\n",
        "\n",
        "**그러면 확률 분포를 구하려면 모든 사건에 대한 횟수를 다 알아야되나?**\n",
        "\n",
        "아니다.\n",
        "\n",
        "특정 Event는 확률 계산 방법을 **패턴화** 시킬 수 있다.\n",
        "\n",
        "---\n",
        "# 기하 분포 구하기\n",
        "\n",
        "**기하 분포란?**\n",
        "\n",
        "어떤 사람이 매주 로또를 사는데, 5주 동안 매주 빠지지 않고 로또를 샀다고 가정을 한다. 4주 동안 계속해서 당첨이 안되고 마지막으로 5주차에 당첨이 됐다.\n",
        "\n",
        "이 사람은 총 5번 로또를 구매했고, 마지막 1등 당첨되기 전까지 4번의 실패를 거듭했다.\n",
        "\n",
        "성공할 확률이 p, 실패할 확률이 q라면,\n",
        "이 사람은 4번의 실패와 한번의 성공을 했으므로 다섯번째 시도에서 성공할 확률은 다음과 같다.\n",
        "\n",
        "**p * q^4**\n",
        "\n",
        "이 처럼 성공할 확률이 p인 Event에서\n",
        "처음 성공할 때 까지의 시행횟수를 확률변수 X라고 하고, 이 확률변수를 **기하확률변수** 라고 부른다.\n",
        "\n",
        "이 사람은 5번째에 1등 당첨이 됐으므로\n",
        "이 사람의 **기하확률변수 X**는 5가 된다.\n",
        "\n",
        "---"
      ]
    },
    {
      "cell_type": "markdown",
      "metadata": {
        "id": "KlVNl20N9eUD",
        "colab_type": "text"
      },
      "source": [
        "# Data Understanding이 중요한 이유?\n",
        "\n",
        "이렇게 다양한 분석 기법으로 아직 일어나지 않은 Event에 대해서 예측을 하고 예방을 할 수 있다.\n",
        "\n",
        "만약 우리가 농구선수를 스카우트를 해야하는데 우리가 봐야할 것은 그 선수의 전의 성적도 중요하지만, 우리가 스카우트 하고 난 다음의 성적이 중요한 요소이기 때문에 선수의 미래를 예측하기위해 과거를 분석후, 위에서 설명한 기법들을 통해 이 선수의 미래를 알 수 있는것이다."
      ]
    }
  ]
}