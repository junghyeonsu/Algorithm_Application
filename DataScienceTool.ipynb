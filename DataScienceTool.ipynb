{
  "nbformat": 4,
  "nbformat_minor": 0,
  "metadata": {
    "colab": {
      "name": "DataScienceTool.ipynb",
      "provenance": [],
      "collapsed_sections": [],
      "authorship_tag": "ABX9TyOFU7DRX1Cd14StOLM9obzP",
      "include_colab_link": true
    },
    "kernelspec": {
      "name": "python3",
      "display_name": "Python 3"
    }
  },
  "cells": [
    {
      "cell_type": "markdown",
      "metadata": {
        "id": "view-in-github",
        "colab_type": "text"
      },
      "source": [
        "<a href=\"https://colab.research.google.com/github/junghyeonsu/Algorithm_Application/blob/master/DataScienceTool.ipynb\" target=\"_parent\"><img src=\"https://colab.research.google.com/assets/colab-badge.svg\" alt=\"Open In Colab\"/></a>"
      ]
    },
    {
      "cell_type": "markdown",
      "metadata": {
        "id": "xsBIH2Qtl8vP",
        "colab_type": "text"
      },
      "source": [
        "# Data Understanding\n",
        "\n",
        "**Data Understanding의 목표?**\n",
        "\n",
        "초기 데이터를 수집, 이해하고 데이터의 품질을 정의하고 <BR>\n",
        "몇가지 가설을 구성하기 위한 데이터셋을 설정"
      ]
    },
    {
      "cell_type": "markdown",
      "metadata": {
        "id": "Odlon1RepJq5",
        "colab_type": "text"
      },
      "source": [
        "**농구선수들의 점수 획득을 보고 어떤선수가 <BR>**\n",
        "**가장 좋은 선수인지 어떻게 알수있을까?**\n",
        "\n",
        "---\n",
        "\n",
        "각 선수들의 10경기 득점 점수\n",
        "\n",
        "선수1 = [15, 15, 17, 20, 21, 15, 12, 15, 18, 19]\n",
        "\n",
        "선수2 = [30, 10, 15, 30, 15, 10, 30, 30, 15, 10]\n",
        "\n",
        "선수3 = [20, 20, 20, 20, 10, 10, 10, 10, 20, 30]"
      ]
    },
    {
      "cell_type": "markdown",
      "metadata": {
        "id": "BHax0pBpqtUL",
        "colab_type": "text"
      },
      "source": [
        "**데이터를 설명할 수 있는 특징점이 필요하다!**\n",
        "<br><br>\n",
        "첫번째 아이디어 Data set의 중심값이 높은 선수\n",
        "\n",
        "<br><br>\n",
        "요기서 중심값은\n",
        "\n",
        "1. 평균\n",
        "  - 모든데이터를 전부 더한 다음 개수로 나눈 값\n",
        "2. 중앙값\n",
        "  - 데이터셋의 중앙에 위치한 값\n",
        "3. 최빈값 \n",
        "  - 제일 빈도수가 높은 값\n",
        "\n",
        "을 의미한다. "
      ]
    },
    {
      "cell_type": "markdown",
      "metadata": {
        "id": "VTTCR33_rhcT",
        "colab_type": "text"
      },
      "source": [
        "---\n",
        "**각 선수별 중심값 구해보기**\n",
        "***\n",
        "선수1 = [15, 15, 17, 20, 21, 15, 12, 15, 18, 19]\n",
        "\n",
        "* 선수1의 평균 \n",
        "<br> 167 / 10 = 16.7 \n",
        "\n",
        "* 선수1의 중앙값 (중앙값이 두개이므로 두개를 더한 다음 나눈다.)\n",
        "<br> 21 + 15 / 2 = 18\n",
        "\n",
        "* 선수1의 최빈값\n",
        "<br> 15가 4번으로 제일 많이 나온다.\n",
        "***\n",
        "선수2 = [30, 10, 15, 30, 15, 10, 30, 30, 15, 10]\n",
        "\n",
        "* 선수2의 평균 \n",
        "<br> 195 / 10 = 19.5 \n",
        "\n",
        "* 선수2의 중앙값 (중앙값이 두개이므로 두개를 더한 다음 나눈다.)\n",
        "<br> 15 + 10 / 2 = 12.5\n",
        "\n",
        "* 선수2의 최빈값\n",
        "<br> 30이 4번으로 제일 많이 나온다.\n",
        "***\n",
        "선수3 = [20, 20, 20, 20, 10, 10, 10, 10, 20, 30]\n",
        "\n",
        "* 선수3의 평균 \n",
        "<br> 170 / 10 = 17.0 \n",
        "\n",
        "* 선수3의 중앙값 (중앙값이 두개이므로 두개를 더한 다음 나눈다.)\n",
        "<br> 10 + 10 / 2 = 10\n",
        "\n",
        "* 선수3의 최빈값\n",
        "<br> 20가 5번으로 제일 많이 나온다."
      ]
    },
    {
      "cell_type": "markdown",
      "metadata": {
        "id": "X2TTJkybtdC6",
        "colab_type": "text"
      },
      "source": [
        "평균으로 봤을 때 : 선수2 > 선수3 > 선수1\n",
        "\n",
        "중앙값으로 봤을 때 : 선수1 > 선수2 > 선수3\n",
        "\n",
        "최빈값으로 봤을 때 : 선수2 > 선수3 > 선수1\n",
        "\n",
        "\n",
        "\n",
        "# 중심값의 문제점은? \n",
        "\n",
        "그 데이터 내의 **중심적 경향**에 대해 설명만 하고있다.<br>\n",
        "데이터 내의 **변화**에 대해서는 설명하지 못함."
      ]
    },
    {
      "cell_type": "code",
      "metadata": {
        "id": "rIDHaZWBufzB",
        "colab_type": "code",
        "outputId": "63e47d34-9e36-4b20-a7a6-48c0604288fe",
        "colab": {
          "base_uri": "https://localhost:8080/",
          "height": 293
        }
      },
      "source": [
        "import matplotlib.pyplot as plt\n",
        "import numpy as np\n",
        "\n",
        "player_one = np.array([15, 15, 17, 20, 21, 15, 12, 15, 18, 19])\n",
        "player_two = np.array( [30, 10, 15, 30, 15, 10, 30, 30, 15, 10])\n",
        "player_three = np.array([20, 20, 20, 20, 10, 10, 10, 10, 20, 30])\n",
        "\n",
        "plt.figure(figsize=(15,4))\n",
        "\n",
        "oneChart = plt.subplot(131) # plot 위치\n",
        "oneChart.set_title('player one', fontsize=10) # title\n",
        "oneChart.boxplot(player_one) # x축, y축\n",
        "oneChart.set_xlabel('Point')\n",
        "oneChart.set_ylabel('Match')\n",
        "\n",
        "twoChart = plt.subplot(132)\n",
        "twoChart.set_title('player two', fontsize=10)\n",
        "twoChart.boxplot(player_two)\n",
        "twoChart.set_xlabel('Point')\n",
        "twoChart.set_ylabel('Match')\n",
        "\n",
        "threeChart = plt.subplot(133)\n",
        "threeChart.set_title('player three', fontsize=10)\n",
        "threeChart.boxplot(player_three)\n",
        "threeChart.set_xlabel('Point')\n",
        "threeChart.set_ylabel('Match')\n",
        "plt.show()"
      ],
      "execution_count": 0,
      "outputs": [
        {
          "output_type": "display_data",
          "data": {
            "image/png": "[encoded data removed]",
            "text/plain": [
              "<Figure size 1080x288 with 3 Axes>"
            ]
          },
          "metadata": {
            "tags": [],
            "needs_background": "light"
          }
        }
      ]
    },
    {
      "cell_type": "markdown",
      "metadata": {
        "id": "2e7T1TiKuXIh",
        "colab_type": "text"
      },
      "source": [
        "---\n",
        "# 그럼 변화를 설명할 수 있는 값은 무엇일까?\n",
        "\n",
        "**변화값**\n",
        "\n",
        "1. 분산\n",
        "2. 표준편차"
      ]
    },
    {
      "cell_type": "code",
      "metadata": {
        "id": "c9ixWPLHwzWx",
        "colab_type": "code",
        "outputId": "d3ab6e14-a19a-468e-9d27-6e587081e552",
        "colab": {
          "base_uri": "https://localhost:8080/",
          "height": 124
        }
      },
      "source": [
        "# player one의 분산\n",
        "print(np.var(player_one))\n",
        "# player two의 분산\n",
        "print(np.var(player_two))\n",
        "# player three의 분산\n",
        "print(np.var(player_three))\n",
        "\n",
        "# player one의 표준편차\n",
        "print(np.std(player_one))\n",
        "# player two의 표준편차\n",
        "print(np.std(player_two))\n",
        "# player three의 표준편차\n",
        "print(np.std(player_three))"
      ],
      "execution_count": 0,
      "outputs": [
        {
          "output_type": "stream",
          "text": [
            "7.01\n",
            "77.25\n",
            "41.0\n",
            "2.6476404589747453\n",
            "8.789197915623474\n",
            "6.4031242374328485\n"
          ],
          "name": "stdout"
        }
      ]
    },
    {
      "cell_type": "markdown",
      "metadata": {
        "id": "VtL77bC3zt-r",
        "colab_type": "text"
      },
      "source": [
        "player two는 감정기복이 엄청 심한 선수 란것을 알 수 있다.<br>\n",
        "player one은 감정기복이 별로 없는 것을 알 수 있다."
      ]
    },
    {
      "cell_type": "markdown",
      "metadata": {
        "id": "2QF_Rl8R0Oc2",
        "colab_type": "text"
      },
      "source": [
        "---\n",
        "# player one의 11번째 경기의 득점은 어떻게 알수있을까? \n",
        "\n",
        "**확률**\n",
        "\n",
        "확률은 과거에 득점한 득점점수 이력을 가지고 다음 경기의 득점을 예측한다! "
      ]
    },
    {
      "cell_type": "markdown",
      "metadata": {
        "id": "nI698Znq0yC_",
        "colab_type": "text"
      },
      "source": [
        "![image](https://user-images.githubusercontent.com/54893898/83613201-6e3bbf00-a5be-11ea-89ae-47691c6ce7eb.png)\n"
      ]
    },
    {
      "cell_type": "markdown",
      "metadata": {
        "id": "_6baQKrZ01nC",
        "colab_type": "text"
      },
      "source": [
        "**예측할 이벤트가 일어난 수 / 전체 경우의 수 = 확률**\n",
        "\n",
        "어떤 경우에도 P(A)는 0과 1사이를 가진다."
      ]
    },
    {
      "cell_type": "markdown",
      "metadata": {
        "id": "2nTtxMy07jIn",
        "colab_type": "text"
      },
      "source": [
        "---\n",
        "# 확률 분포 구하기\n",
        "\n",
        "**확률 분포란?**\n",
        "\n",
        "각 event에 대해 확률의 분포를 표현한 것!\n",
        "\n",
        "**확률 분포 구하는 방법은?**\n",
        "\n",
        "* 사건에 대해서 기록을 한다.\n",
        "* 전체 Event 대비 일어난 횟수를 구한다.\n",
        "* 각 Event당 확률을 구한다.\n",
        "\n",
        "**그러면 확률 분포를 구하려면 모든 사건에 대한 횟수를 다 알아야되나?**\n",
        "\n",
        "아니다.\n",
        "\n",
        "특정 Event는 확률 계산 방법을 **패턴화** 시킬 수 있다.\n",
        "\n",
        "---\n",
        "# 기하 분포 구하기\n",
        "\n",
        "**기하 분포란?**\n",
        "\n",
        "어떤 사람이 매주 로또를 사는데, 5주 동안 매주 빠지지 않고 로또를 샀다고 가정을 한다. 4주 동안 계속해서 당첨이 안되고 마지막으로 5주차에 당첨이 됐다.\n",
        "\n",
        "이 사람은 총 5번 로또를 구매했고, 마지막 1등 당첨되기 전까지 4번의 실패를 거듭했다.\n",
        "\n",
        "성공할 확률이 p, 실패할 확률이 q라면,\n",
        "이 사람은 4번의 실패와 한번의 성공을 했으므로 다섯번째 시도에서 성공할 확률은 다음과 같다.\n",
        "\n",
        "**p * q^4**\n",
        "\n",
        "이 처럼 성공할 확률이 p인 Event에서\n",
        "처음 성공할 때 까지의 시행횟수를 확률변수 X라고 하고, 이 확률변수를 **기하확률변수** 라고 부른다.\n",
        "\n",
        "이 사람은 5번째에 1등 당첨이 됐으므로\n",
        "이 사람의 **기하확률변수 X**는 5가 된다.\n",
        "\n",
        "---"
      ]
    },
    {
      "cell_type": "markdown",
      "metadata": {
        "id": "KlVNl20N9eUD",
        "colab_type": "text"
      },
      "source": [
        "# Data Understanding이 중요한 이유?\n",
        "\n",
        "이렇게 다양한 분석 기법으로 아직 일어나지 않은 Event에 대해서 예측을 하고 예방을 할 수 있다.\n",
        "\n",
        "만약 우리가 농구선수를 스카우트를 해야하는데 우리가 봐야할 것은 그 선수의 전의 성적도 중요하지만, 우리가 스카우트 하고 난 다음의 성적이 중요한 요소이기 때문에 선수의 미래를 예측하기위해 과거를 분석후, 위에서 설명한 기법들을 통해 이 선수의 미래를 알 수 있는것이다."
      ]
    }
  ]
}