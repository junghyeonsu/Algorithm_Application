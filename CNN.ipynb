{
  "nbformat": 4,
  "nbformat_minor": 0,
  "metadata": {
    "colab": {
      "name": "CNN.ipynb",
      "provenance": [],
      "collapsed_sections": [],
      "authorship_tag": "ABX9TyPGUAiHDehTdlKWAldxeifr",
      "include_colab_link": true
    },
    "kernelspec": {
      "name": "python3",
      "display_name": "Python 3"
    }
  },
  "cells": [
    {
      "cell_type": "markdown",
      "metadata": {
        "id": "view-in-github",
        "colab_type": "text"
      },
      "source": [
        "<a href=\"https://colab.research.google.com/github/junghyeonsu/Algorithm_Application/blob/master/CNN.ipynb\" target=\"_parent\"><img src=\"https://colab.research.google.com/assets/colab-badge.svg\" alt=\"Open In Colab\"/></a>"
      ]
    },
    {
      "cell_type": "markdown",
      "metadata": {
        "id": "20Alg9wQclE3",
        "colab_type": "text"
      },
      "source": [
        "# CNN (Convolution Neural Network)\n",
        "\n",
        "## CNN은 왜 중요할까?\n",
        "\n",
        "우선 딥러닝의 꽃이라고 불릴 수 있는 \n",
        "\n",
        "CNN에 간단히 요약을 하자면\n",
        "\n",
        "CNN은 Convolution Neural Network의 약자로서,\n",
        "\n",
        "**합성곱 신경망** 이라고 부른다.\n",
        "\n",
        "기존의 구현했던 기존 신경망은 데이터의 형상이 무시된다.\n",
        "\n",
        "따라서 글자의 크기가 달라지거나,\n",
        "\n",
        "글자가 회전되거나,\n",
        "\n",
        "글자에 변형이 조금만 생겨도\n",
        "\n",
        "다른 글자로 인식을 해버린다.\n",
        "\n",
        "그래서 학습 데이터를 넣어주지 않으면\n",
        "\n",
        "좋은 결과를 기대하기가 어렵다는 단점이 있었다.\n",
        "\n",
        "하지만 CNN은 원본을 가지고 여러개의\n",
        "\n",
        "Feature map (특징 맵)을 만들어 분류하는\n",
        "\n",
        "**완전 연결 계층**으로,\n",
        "\n",
        "이미지의 특징을 잘 추출하기 때문에\n",
        "\n",
        "이미지가 변형이되더라도 잘 인식을 할 수가 있다.\n",
        "\n",
        "이미지의 변형에 대처를 잘 할수 있으므로 중요하다고 할 수 있다.\n",
        "\n"
      ]
    },
    {
      "cell_type": "markdown",
      "metadata": {
        "id": "2vr1BIDaeGcp",
        "colab_type": "text"
      },
      "source": [
        "## CNN의 일상생활의  쓰임새\n",
        "\n",
        "이미지 (사진) 분석,\n",
        "\n",
        "동영상 분석,\n",
        "\n",
        "음성 인식,\n",
        "\n",
        "자연어 처리 등등\n",
        "\n",
        "많은곳에서 쓰이고 있다."
      ]
    },
    {
      "cell_type": "markdown",
      "metadata": {
        "id": "Sq59dYPeeooQ",
        "colab_type": "text"
      },
      "source": [
        "## CNN 패키지 및 알고리즘\n",
        "\n",
        "CNN에 도움을 주는 대표적인 패키지로는\n",
        "\n",
        "Pytorch 패키지가 있다.\n",
        "\n",
        "MNIST, Conv2d 등등 많은 알고리즘들을\n",
        "\n",
        "지원하고 있다."
      ]
    },
    {
      "cell_type": "markdown",
      "metadata": {
        "id": "sUFgrPlPfant",
        "colab_type": "text"
      },
      "source": [
        "## CNN 핵심 아이디어\n",
        "\n",
        "CNN의 대강적인 설명을 하자면,\n",
        "\n",
        "요기서는 이미지를 예로 들겠다.\n",
        "\n",
        "이미지 픽셀들이 학습 테크닉들을 거쳐서\n",
        "\n",
        "최종 task를 풀기위해 계속 학습한다.\n",
        "\n",
        "우선 합성곱 연산이라는 것을 알아야하는데\n",
        "\n",
        "![image](https://user-images.githubusercontent.com/54893898/84047931-92e0ce00-a9e6-11ea-803a-17715aea90eb.png)\n",
        "\n",
        "위의 그림을 보면 Input 이미지가 \n",
        "\n",
        "Filter라는 것에 의해 Output으로 변하는 것을 알 수 있다.\n",
        "\n",
        "예전에는 Filter를 사람이 직접 구현을 해줘야 했다면\n",
        "\n",
        "CNN의 핵심은 저 filter를 학습을 통해서 최종적인 목표를 향해 계속 변한다는 것이다.\n",
        "\n",
        "filter를 input데이터에 학습을 하다보면, \n",
        "\n",
        "input 데이터의 바깥쪽에 데이터가 학습데이터로 쓰일 수 있는데\n",
        "\n",
        "그것을 방지하기위해 패딩(padding)이라는 것을\n",
        "해주어야 한다.\n",
        "\n",
        "패딩은 합성곱 연산을 수행하기 전에 데이터 주변을\n",
        "\n",
        "특정값으로 채워 늘리는 것을 말한다.\n",
        "\n",
        "그리고 스트라이드 라는 개념도 알아야 하는데,\n",
        "\n",
        "필터가 input 데이터를 돌 것인데, 그 도는 것을\n",
        "\n",
        "한칸 한칸씩 전부 적용을 할 것인지, 혹은\n",
        "\n",
        "한번 적용한 곳에서 두칸씩 뛰어서 적용을 할 것인지 에대한 것을 말한다.\n",
        "\n",
        "![image](https://user-images.githubusercontent.com/54893898/84049332-45189580-a9e7-11ea-8e78-bc2b6dd9b814.png)\n",
        "\n",
        "위와 같이 이미지의 색은 전부 color로 이루어져있는데\n",
        "\n",
        "color는 또 red, green, blue로 나뉘어져 있기 때문에\n",
        "\n",
        "컬러에 대해서도 합성곱을 해주어야 한다.\n",
        "\n",
        "우리가 꼭 알아야 할 핵심 내용은\n",
        "\n",
        "1. 우리는 필터(커널)의 사이즈를 정의할 수 있다는 것이다. (보통에는 3x3 혹은 5x5를 가짐)\n",
        "\n",
        "2. 필터의 Dimension은 우리가 정할 수 없다.\n",
        "필터의 Dimension은 input channel에 영향을 받는 것 이다. (RGB 필터를 생각하자)\n",
        "\n",
        "3. 필터의 개수가 많아지면, 아웃풋 채널도 많아진다 (똑같다)\n",
        "\n",
        "출처 : https://everyday-deeplearning.tistory.com/entry/%ED%8C%8C%EC%9D%B4%EC%8D%AC%EC%9C%BC%EB%A1%9C-%EB%94%A5%EB%9F%AC%EB%8B%9D%ED%95%98%EA%B8%B0-CNNConvolution-Neural-Network"
      ]
    }
  ]
}