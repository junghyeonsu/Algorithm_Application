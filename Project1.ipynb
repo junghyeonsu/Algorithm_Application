{
  "nbformat": 4,
  "nbformat_minor": 0,
  "metadata": {
    "colab": {
      "name": "Project1.ipynb",
      "provenance": [],
      "collapsed_sections": [],
      "authorship_tag": "ABX9TyNHd4MnwROvvLpqQTG6P/pA",
      "include_colab_link": true
    },
    "kernelspec": {
      "name": "python3",
      "display_name": "Python 3"
    }
  },
  "cells": [
    {
      "cell_type": "markdown",
      "metadata": {
        "id": "view-in-github",
        "colab_type": "text"
      },
      "source": [
        "<a href=\"https://colab.research.google.com/github/junghyeonsu/Algorithm_Application/blob/master/Project1.ipynb\" target=\"_parent\"><img src=\"https://colab.research.google.com/assets/colab-badge.svg\" alt=\"Open In Colab\"/></a>"
      ]
    },
    {
      "cell_type": "markdown",
      "metadata": {
        "id": "Yp4ib8ey4Eim",
        "colab_type": "text"
      },
      "source": [
        "# Visualization 과 data scaling에 대해서\n",
        "\n",
        "Visualization은 왜 중요한지 말을 하는게 아까울정도로 중요하다.\n",
        "\n",
        "우리는 수 많은 데이터가 존재하고 그 데이터들과 함께 살아가고 있다.\n",
        "\n",
        "근데 그 데이터들이 그림으로 되어있지 않고 그냥 숫자로만 표현되어있다면 어떨까?\n",
        "\n",
        "![image](https://user-images.githubusercontent.com/54893898/83839457-170d2a00-a737-11ea-9afb-b5b9f0d0afe4.png)\n",
        "\n",
        "위 그림은 IRIS라는 꽃 (붓꽃)의 잎 길이를 세부적으로 나누어서 숫자 데이터로 표현해놓은 것이다. 이렇게 나뉘어져있는 데이터는 우리가 한눈에 보기가 어렵다.\n",
        "\n",
        "![image](https://user-images.githubusercontent.com/54893898/83839494-2b512700-a737-11ea-8301-5d09d3fa3ca8.png)\n",
        "\n",
        "SepalWidthCm, SepalLengthCm 컬럼을 보기좋게 시각화 한 그림이다. 숫자 데이터보다 한눈에 보기 쉽고, 정리가 잘되어있다. \n",
        "\n",
        "이것이 시각화가 중요한 이유이다.\n",
        "\n",
        "data scailing은 시각화와 비슷한 이유로 우리가 작업을 한다고 생각하면 된다.\n",
        "\n",
        "모든 데이터들이 숫자가 500000000, 600000000, 7000000000 이렇게 큰 숫자들로 이루어진 데이터라면 보기가 힘들고 직관적으로 알아채기 힘들 것 이다. 그래서 데이터 전체를 scailing 하는 작업을 해주면 한눈에 보기 좋아진다.\n",
        "\n",
        "또한 비교하려는 데이터들이 단위가 맞지않다면 단위를 맞춰주는 행위 또한\n",
        "scailing 이라고 볼 수 있다.\n",
        "\n"
      ]
    },
    {
      "cell_type": "markdown",
      "metadata": {
        "id": "qx2DF_Ch7MXU",
        "colab_type": "text"
      },
      "source": [
        "# 우리 일상생활에 어떻게 적용되는지?\n",
        "\n",
        "데이터 시각화가 일상에 어떻게 적용되는지는 우리 주변에서 바로 볼 수 있다.\n",
        "\n",
        "![image](https://user-images.githubusercontent.com/54893898/83839960-5720dc80-a738-11ea-8e38-dbd062872986.png)\n",
        "\n",
        "출처 : https://datavizcatalogue.com/  이게 끝이아니다...\n",
        "\n",
        "---\n",
        "\n",
        "\n",
        "음식점의 위치를 지도에 찍는다던가,\n",
        "\n",
        "몇일간의 날씨를 차트로 표시를 해주다던가,\n",
        "\n",
        "우리의 몸무게, 체지방등을 한눈에 볼 수 있는 차트를 본다던가,\n",
        "\n",
        "인구 밀집도에 관한 히트맵을 본다던가,\n",
        "\n",
        "데이터 시각화가 일상에 어떻게 적용되는지 말하려면 오늘 밤을 새야될 것 같다.\n",
        "\n",
        "---\n",
        "\n",
        "데이터 스케일링은 데이터 전처리의 한 과정이다.\n",
        "\n",
        "키와 몸무게를 가지고 100m 달리기에 걸리는 시간을 예측한다고 하면, 키와 몸무게는 unit 이 다르기 때문에, 더 큰 값을 가진 키 값이 결과값에 더 큰 영향을 미칠 수도 있다. 그래서 스케일링을 해준다던지,\n",
        "\n",
        "혹은 우리나라 원화와 미국 달러를 비교를 하는데 숫자 데이터로만 표시되어있다면\n",
        "두 개의 단위는 다르기 때문에 같게 해주어야 한다. 이것도 데이터 스케일링의 한 과정이라고 볼 수 있다.\n",
        "\n",
        "\n"
      ]
    },
    {
      "cell_type": "markdown",
      "metadata": {
        "id": "WlpeB-ma948k",
        "colab_type": "text"
      },
      "source": [
        "데이터 시각화에 대한 주요 패키지들을 설명하자면\n",
        "\n",
        "* matplotlib\n",
        "* seaborn\n",
        "* plotnine\n",
        "* folium\n",
        "* plot.ly\n",
        "* pyecharts\n",
        "\n",
        "시각화에 도움을 주는 패키지들이 많다.\n",
        "\n",
        "---\n",
        "\n",
        "데이터 스케일링에 도움을 주는 라이브러리중 가장 핵심적인 패키지를 고르라면 Sklearn가 있겠다.\n",
        "\n",
        "Sklearn의 스케일링에 도움을 주는 클래스들을 나열하자면 주로\n",
        "\n",
        "* StandardScaler(X): 평균이 0과 표준편차가 1이 되도록 변환.\n",
        "\n",
        "* RobustScaler(X): 중앙값(median)이 0, IQR(interquartile range)이 1이 되도록 변환.\n",
        "\n",
        "* MinMaxScaler(X): 최대값이 각각 1, 최소값이 0이 되도록 변환\n",
        "\n",
        "* MaxAbsScaler(X): 0을 기준으로 절대값이 가장 큰 수가 1또는 -1이 되도록 변환\n",
        "\n",
        "등등이 있다."
      ]
    },
    {
      "cell_type": "markdown",
      "metadata": {
        "id": "wAXLQmkN_DmV",
        "colab_type": "text"
      },
      "source": [
        "데이터 시각화와 스케일링의 핵심적인내용은 위에 설명한 것이 대부분, 알고리즘에 해당하는 내용은 아니고, 단순히 시각화, 전처리 과정이므로 핵심 내용들은 전부 위에 존재한다!"
      ]
    }
  ]
}