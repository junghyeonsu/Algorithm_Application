{
  "nbformat": 4,
  "nbformat_minor": 0,
  "metadata": {
    "colab": {
      "name": "SupervisedLearning.ipynb",
      "provenance": [],
      "collapsed_sections": [],
      "authorship_tag": "ABX9TyO5iXLo30vD7zfAk28glS08",
      "include_colab_link": true
    },
    "kernelspec": {
      "name": "python3",
      "display_name": "Python 3"
    }
  },
  "cells": [
    {
      "cell_type": "markdown",
      "metadata": {
        "id": "view-in-github",
        "colab_type": "text"
      },
      "source": [
        "<a href=\"https://colab.research.google.com/github/junghyeonsu/Algorithm_Application/blob/master/SupervisedLearning.ipynb\" target=\"_parent\"><img src=\"https://colab.research.google.com/assets/colab-badge.svg\" alt=\"Open In Colab\"/></a>"
      ]
    },
    {
      "cell_type": "markdown",
      "metadata": {
        "id": "0tb8nD__jdh0",
        "colab_type": "text"
      },
      "source": [
        "# Supervised Learning?\n",
        "\n",
        "정답을 알려주며 학습시키는 것.\n",
        "\n",
        "예를들면 고양이 사진을 주고(input data), 이 사진은 고양이(정답지- label data)야.\n",
        "\n",
        "사자 사진을 주고, 이 사진은 사자야. 라고 알려주는 학습 방식이다.\n",
        "\n",
        "따라서 기계가 정답을 잘 맞췄는지 아닌지 쉽게 알 수 있다.\n",
        "\n",
        "출처: https://marobiana.tistory.com/155 [Take Action]\n",
        "\n"
      ]
    },
    {
      "cell_type": "markdown",
      "metadata": {
        "id": "sn8MY2p_jnoZ",
        "colab_type": "text"
      },
      "source": [
        "# Supervised Learning은 왜 중요할까?\n",
        "\n",
        "우리가 컴퓨터에게 9 x 9 = 81 이라는 문제와 답,\n",
        "\n",
        "그리고 3 x 7 = 21 이라는 문제와 답을 컴퓨터에게 \n",
        "\n",
        "주고 3 x 3 = ? 라고 물어봤을 때 컴퓨터에게 답을\n",
        " \n",
        "학습 시키는 것으로써 문제 데이터 셋과\n",
        "\n",
        "정답 데이터 셋을 우리가 구성함으로써 컴퓨터에게\n",
        "\n",
        "학습시킬 수 있습니다. \n",
        "\n",
        "주로 어떤 패턴이나 경향등을 예측할 때 중요하게\n",
        "\n",
        "사용되고 있습니다. 우리 일상생활과 밀접하게 연관\n",
        "\n",
        "되어있기 때문에 중요한 개념이라고 생각할 수 있습니다.\n",
        "\n"
      ]
    },
    {
      "cell_type": "markdown",
      "metadata": {
        "id": "yWmRnVFLnUy_",
        "colab_type": "text"
      },
      "source": [
        "# 우리 일상생활에 어떻게 적용되는지?\n",
        "\n",
        "리뷰 사이트에서 별점을 매길 때 별점을 우리가 매기는 것이 아닌 컴퓨터에게 매기도록 하는 것도\n",
        "컴퓨터에게 학습을 시켜 할수있다.\n",
        "\n",
        "우리가 부동산 가격을 컴퓨터에게 학습을 시켜\n",
        "어느 지역의 부동산 평균가격을 유추할 때도 사용할 수 있다.\n",
        "\n",
        "분류가 가능하고, 선형회귀방식만 적용하고 정답 데이터 셋들이 충분하다면 어디에서나 적용될 수 있습니다."
      ]
    },
    {
      "cell_type": "markdown",
      "metadata": {
        "id": "KzgaApqZov1G",
        "colab_type": "text"
      },
      "source": [
        "# 활용가능한 주요 알고리즘의 이름, 패키지 명\n",
        "\n",
        "* 서포트 벡터 머신 (support vector machine)\n",
        "* 은닉 마르코프 모델 (Hidden Markov model)\n",
        "* 회귀 분석 (Regression)\n",
        "* 신경망 (Neural network)\n",
        "* 나이브 베이즈 분류 (Naive Bayes Classification)\n",
        "\n",
        "등등이 있습니다.\n",
        "\n",
        "\n",
        "![image](https://user-images.githubusercontent.com/54893898/83959006-67a99200-a8b3-11ea-812d-ebb03df89f5f.png)\n",
        "\n",
        "출처 : https://wendys.tistory.com/169\n",
        "\n",
        "\n"
      ]
    },
    {
      "cell_type": "markdown",
      "metadata": {
        "id": "rORcZbQYpSqp",
        "colab_type": "text"
      },
      "source": [
        "# Supervised Learning의 핵심 아이디어\n",
        "\n",
        "지도 학습의 핵심 아이디어는 두가지가 있습니다.\n",
        "\n",
        "1. Classification (분류) 후..\n",
        "2. 정답을 맞추는 방향으로 학습을 시킨다.\n",
        "\n",
        "\n",
        "우선 classification 같은 경우에는 정답 데이터 셋 에다가\n",
        "\n",
        "클래스를 부여해주는 것을 classification이라고 한다.\n",
        "\n",
        "예를들어 강아지와 고양이를 분류하는 학습을 시키고 싶다면\n",
        "\n",
        "강아지와 고양이 두개의 클래스로 정답을 나눌 수 있다.\n",
        "\n",
        "두번째로 정답을 맞추는 방향으로 학습을 시켜야 하는데 이 과정에는 4가지 과정으로 나뉜다.\n",
        "\n",
        "1. Reference Data Representation\n",
        "\n",
        "2. Score Normalization\n",
        "\n",
        "3. Cost Function\n",
        "\n",
        "4. Parameter Update\n",
        "\n",
        "1번과정에서는 들어오는 데이터를 하나의 클래스 밖에 가지지 못하도록 데이터에 강한 제한을 거는 것이다.\n",
        "\n",
        "예를들어 강아지 사진이 들어왔다면 강아지 사진의 class에 1을 부여해주고 \n",
        "\n",
        "고양이 class에는 0을 \n",
        "부여해주는식으로 극단적으로 데이터에 제한을 건다.\n",
        "\n",
        "2번과정에서는 기계와 사람이 말한 것을 비교하기 위해서는 데이터의 Scale을 맞춰주어야 한다.\n",
        "\n",
        "대표적인 테크닉으로 Softmax Function을 쓰면된다.\n",
        "\n",
        "이렇게 되면 정답값과 예측값을 비교할 수 있다.\n",
        "\n",
        "3번 과정에서 이제 정답값과 예측값의 차이를 수치화 해야하는데 \n",
        "\n",
        "이 과정에서는 Cross Entrophy 를 이용해 두 값의 차이를 측정해준다.\n",
        "\n",
        "4번 과정에서는 오류가 작아지는 방향으로 parameter 들을 update 해주어야한다. \n",
        "\n",
        "대표적인 방식으로 미분을 하여 기울기가 작아지는 방향으로 업데이트 해주는 방향으로 많이한다.\n",
        "\n",
        "이렇게되면 지도학습이 끝난다."
      ]
    }
  ]
}