{
  "nbformat": 4,
  "nbformat_minor": 0,
  "metadata": {
    "colab": {
      "name": "Clustering.ipynb",
      "provenance": [],
      "collapsed_sections": [],
      "authorship_tag": "ABX9TyPyg/xK1r6B1BaHUf/X4CLA",
      "include_colab_link": true
    },
    "kernelspec": {
      "name": "python3",
      "display_name": "Python 3"
    }
  },
  "cells": [
    {
      "cell_type": "markdown",
      "metadata": {
        "id": "view-in-github",
        "colab_type": "text"
      },
      "source": [
        "<a href=\"https://colab.research.google.com/github/junghyeonsu/Algorithm_Application/blob/master/Clustering.ipynb\" target=\"_parent\"><img src=\"https://colab.research.google.com/assets/colab-badge.svg\" alt=\"Open In Colab\"/></a>"
      ]
    },
    {
      "cell_type": "markdown",
      "metadata": {
        "id": "sp6IXv6S0b1B",
        "colab_type": "text"
      },
      "source": [
        "#**Clustering**\n",
        "\n",
        "## 클러스터링이 중요한 이유?\n",
        "\n",
        "![image](https://user-images.githubusercontent.com/54893898/83719270-ad771800-a671-11ea-9c80-dc2dfc8ab2aa.png)\n",
        "\n",
        "\n",
        "사람이 저 사진을 보고 Grouping을 하라고하면 우리는 생각을 한 다음에 여러 집단으로 묶을 것이다.\n",
        "\n",
        "하지만 컴퓨터가 이 사진을 주고 그냥 Grouping을 하라고 시키면 컴퓨터는 할 수 있을까?? 할 수없다.\n",
        "\n",
        "### 그래서 나온것이 Clustering 이다.\n",
        "\n",
        "클러스터링은 데이터 자체에 속성을 파악하기 위해 또는 데이터들을 시각화하기 편하게 하기 위해서 중요한 기법이라고 볼 수 있다.\n",
        "\n",
        "\n"
      ]
    },
    {
      "cell_type": "markdown",
      "metadata": {
        "id": "QDO5exrX6yIW",
        "colab_type": "text"
      },
      "source": [
        "## 우리 일상생활에서의 Clustering?\n",
        "\n",
        "Clustering이 일상생활에 쓰이는 기법은 다양하다.\n",
        "\n",
        "이미지 처리에서 이미지의 픽셀정보는 엄청 많은 양의 데이터이기 때문에 이것을 군집화 해서 이미지를 파악하는 그런 용도로 쓰이기도 한다.\n",
        "\n",
        "또는 홈페이지 유저들의 성향을 파악하기 위해서 다양한 변수를 이용해 점수를 계산 한 다음 나온 지표를 가지고 Clustering을 통해서 많은 사용자들의 성향을 파악할 수 있는 용도에도 쓰일 수 있다.\n",
        "\n",
        "혹은 각 지역의 상가 밀집도를 파악하기 위해서 공공데이터 포털에서 제공하는 빅데이터들을 가지고 상가 위치를 전부 지도로 찍은 다음, 클러스터링을 통해 밀집도를 계산할 수 있는 그런 용도로도 쓰일 수 있다.\n",
        "\n",
        "Clustering은 우리 주변에서 정말 많이 쓰이고 가깝기 때문에 알아둔다면 정말 유용하게 쓸 수 있을 것 같다."
      ]
    },
    {
      "cell_type": "markdown",
      "metadata": {
        "id": "QsR0BUwM8tVk",
        "colab_type": "text"
      },
      "source": [
        "# 활용가능한 주요 알고리즘의 이름, 패키지 명\n",
        "\n",
        "Clustering의 대표적인 알고리즘은 세가지가 있다.\n",
        "\n",
        "1. K-Means\n",
        "\n",
        "2. Hierarchical clustering\n",
        "\n",
        "3. DBSCAN\n",
        "\n",
        "세 가지 전부 Sklearn 라이브러리에서 사용할 수 있다.\n",
        "\n"
      ]
    },
    {
      "cell_type": "markdown",
      "metadata": {
        "id": "rblNEYC-_BFD",
        "colab_type": "text"
      },
      "source": [
        "# 각각의 알고리즘에 대해서\n",
        "\n",
        "##1. K-Means\n",
        "\n",
        "k-means는 중심값을 계속 구하는 것이다.\n",
        "centeroid에서 거리를 잰 다음 centroid를 계속 변경하면서 자리를 옮겨간다.\n",
        "\n",
        "K-means의 가장 큰 특징이자 단점이라고 할 수있는 점은 K 를 지정해줘야 한다는 것이다.\n",
        "\n",
        "k를 지정해주면 알고리즘이 k개 만큼의 군집을 형성을 한다. \n",
        "\n",
        "그래서 밀집도의 차이가 심할 때가 있고, 혼자 덩 떨어진 point인 outliers에 너무 취약한 점이 있다.\n",
        "\n",
        "![image](https://user-images.githubusercontent.com/54893898/83721981-1f9e2b80-a677-11ea-88c3-16e8e7dd2411.png)\n",
        "\n",
        "그리고 위와 같은 데이터에서 원하는 결과를 얻지 못한다. \n",
        "\n",
        "그 이유는 어떤 점으로 부터의 거리가 가까운 것들 끼리 묶는 형식인데, 위의 데이터 같은 경우는 거리가 멀어도 붙어있는 것들 끼리 묶은 경우이기 때문에 K-Means와는 거리가 멀다.\n",
        "\n",
        "\n",
        "##2.Hierarchical clustering(계층적 클러스터링)\n",
        "\n",
        "계층적 클러스터링은 K-Means와 다르게 K를 지정해주지 않아도 된다.\n",
        "\n",
        "계층적 클러스터링은 점차 계층적으로 묶어나가서 군집을 형성하기 때문에 계층적 클러스터링이라고 불린다.\n",
        "\n",
        "계층적 클러스터링 중에서는 크게 3가지 방식으로 나뉜다. 거리가 제일 작은 것을 merge하는 min방식 혹은 거리가 제일 큰 것을 merge하는 max방식 혹은 cluster안의 모든 데이터와 다른 cluster가 병합할 때 모든 데이터의 거리의 평균을 비교해서 merge하는 group average 방식이 있다.\n",
        "\n",
        "계층적 클러스터링은 계층에 속하지 못해 남는 데이터가 노이즈가 되서 문제가 되는경우가 많을수도 있다. 그게 단점이고,\n",
        "K를 안주어도 된다는 장점이 있다. \n",
        "\n",
        "![image](https://user-images.githubusercontent.com/54893898/83722614-40b34c00-a678-11ea-9375-85de192c98a0.png)\n",
        "\n",
        "위와 같은 글자 데이터를 파악할 때, 혹은 K-means처럼 거리로 계산을 하는것이 아닌 붙어있는 것들 끼리 군집을 나누고싶다. 그리고 k를 주고싶지 않다 그러면 계층적 클러스터링을 고려해보길 바란다.\n",
        "\n",
        "##3.DBSCAN(Density-based clustering)\n",
        "\n",
        "마지막으로 DBSCAN 클러스터링은 k-means와 다르게 k를 주는 것이 아닌, 묶어주고 싶은 군집 크기를 나타내는 EPS, 그리고 최소 뭉쳐야 할 데이터 개수인 MinPts를 주어야 한다.\n",
        "\n",
        "DBSCAN은 K를 고려하는 것이 아닌 밀집도를 고려해주어야 한다.\n",
        "\n",
        "DBSCAN은 EPS에 속하냐, 혹은 MinPts를 만족하느냐에 따라 core point, border point, noise point로 나뉜다.\n",
        "\n",
        "\n",
        "![image](https://user-images.githubusercontent.com/54893898/83723036-f54d6d80-a678-11ea-82a9-beaa3321ba94.png)\n",
        "\n",
        "위 그림과 같이 EPS와 MinPts가 7로 주어졌다고하면 한점을 기준으로 EPS거리안에 7개의 데이터가 존재하면 그 데이터는 Core point 라고 할 수 있다.\n",
        "\n",
        "혹은 주변에 7개의 데이터가 존재하진 않지만 core point의 반경안에 들어가있다면 그 데이터는 border point라고 할 수있다.\n",
        "\n",
        "마지막으로 core point에도 속하지않고, 주변에 7개의 데이터도 존재하지 않는다면 그 데이터는 noise point에 해당한다.\n",
        "\n",
        "\n"
      ]
    }
  ]
}